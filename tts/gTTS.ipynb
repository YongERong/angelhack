{
 "cells": [
  {
   "cell_type": "markdown",
   "metadata": {},
   "source": [
    "# gTTS\n",
    "https://gtts.readthedocs.io/en/latest/index.html"
   ]
  },
  {
   "cell_type": "code",
   "execution_count": 38,
   "metadata": {},
   "outputs": [],
   "source": [
    "from gtts import gTTS\n",
    "import os"
   ]
  },
  {
   "cell_type": "code",
   "execution_count": 40,
   "metadata": {},
   "outputs": [],
   "source": [
    "#tts for english text\n",
    "\n",
    "text = \"This week, the number of people hospitalized with coronary disease has risen to about 280, and Health Minister Wang Yikang once again reminds the public to protect themselves and calls on the elderly to be vaccinated against coronary disease once a year.\"\n",
    "\n",
    "tts_uk = gTTS(text, lang='en', tld='co.uk') #English UK accent\n",
    "tts_us = gTTS(text, lang='en', tld='us') #English US accent\n",
    "\n",
    "tts_uk.save('audio/gtts_english_uk.mp3')\n",
    "tts_us.save('audio/gtts_english_us.mp3')"
   ]
  },
  {
   "cell_type": "code",
   "execution_count": 48,
   "metadata": {},
   "outputs": [],
   "source": [
    "#tts for chinese text\n",
    "\n",
    "text = \"本周因患冠病住院的人数上升至约280人，卫生部长王乙康再次提醒公众自我防护, 呼吁年长者应该每年接种一次冠病疫苗。\"\n",
    "\n",
    "tts_cn = gTTS(text, lang='zh-CN', tld='com') #Mandarin (China Mainland) accent\n",
    "tts_tw = gTTS(text, lang='zh-TW', tld='com') #Mandarin (Taiwan) accent\n",
    "\n",
    "tts_cn.save('audio/gtts_chinese_cn.mp3')\n",
    "tts_tw.save('audio/gtts_chinese_tw.mp3')"
   ]
  },
  {
   "cell_type": "markdown",
   "metadata": {},
   "source": [
    "# pyttsx3\n",
    "https://pyttsx3.readthedocs.io/en/latest/engine.html?highlight=language#pyttsx3.voice.Voice.languages\n",
    "\n",
    "https://readthedocs.org/projects/pyttsx3/downloads/pdf/latest/"
   ]
  },
  {
   "cell_type": "code",
   "execution_count": 56,
   "metadata": {},
   "outputs": [
    {
     "name": "stdout",
     "output_type": "stream",
     "text": [
      "175\n",
      "1.0\n"
     ]
    }
   ],
   "source": [
    "import pyttsx3\n",
    "engine = pyttsx3.init() # object creation\n",
    "\n",
    "\"\"\" RATE\"\"\"\n",
    "engine.setProperty('rate', 175)     # setting up new voice rate\n",
    "rate = engine.getProperty('rate')   # getting details of current speaking rate\n",
    "print (rate)                        #printing current voice rate\n",
    "\n",
    "\n",
    "\"\"\"VOLUME\"\"\"\n",
    "volume = engine.getProperty('volume')   #getting to know current volume level (min=0 and max=1)\n",
    "print (volume)                          #printing current volume level\n",
    "engine.setProperty('volume',1.0)    # setting up volume level  between 0 and 1\n",
    "\n",
    "\"\"\"VOICE\"\"\"\n",
    "voices = engine.getProperty('voices')       #getting details of current voice\n",
    "engine.setProperty('voice', voices[0].id)  #changing index, changes voices. o for male\n",
    "# engine.setProperty('voice', voices[1].id)   #changing index, changes voices. 1 for female \n",
    "\n",
    "text = \"This week, the number of people hospitalized with coronary disease has risen to about 280, and Health Minister Wang Yikang once again reminds the public to protect themselves and calls on the elderly to be vaccinated against coronary disease once a year.\"\n",
    "engine.say(text)\n",
    "\n",
    "# engine.say('My current speaking rate is ' + str(rate))\n",
    "engine.runAndWait()\n",
    "engine.stop()\n",
    "\n",
    "\"\"\"Saving Voice to a file\"\"\"\n",
    "engine.save_to_file(text, 'audio/pyttsx3.mp3')\n",
    "engine.runAndWait()"
   ]
  },
  {
   "cell_type": "code",
   "execution_count": 39,
   "metadata": {},
   "outputs": [
    {
     "name": "stdout",
     "output_type": "stream",
     "text": [
      "<Voice id=HKEY_LOCAL_MACHINE\\SOFTWARE\\Microsoft\\Speech\\Voices\\Tokens\\TTS_MS_EN-US_DAVID_11.0\n",
      "          name=Microsoft David Desktop - English (United States)\n",
      "          languages=[]\n",
      "          gender=None\n",
      "          age=None>\n",
      "<Voice id=HKEY_LOCAL_MACHINE\\SOFTWARE\\Microsoft\\Speech\\Voices\\Tokens\\TTS_MS_EN-GB_HAZEL_11.0\n",
      "          name=Microsoft Hazel Desktop - English (Great Britain)\n",
      "          languages=[]\n",
      "          gender=None\n",
      "          age=None>\n",
      "<Voice id=HKEY_LOCAL_MACHINE\\SOFTWARE\\Microsoft\\Speech\\Voices\\Tokens\\TTS_MS_DE-DE_HEDDA_11.0\n",
      "          name=Microsoft Hedda Desktop - German\n",
      "          languages=[]\n",
      "          gender=None\n",
      "          age=None>\n",
      "<Voice id=HKEY_LOCAL_MACHINE\\SOFTWARE\\Microsoft\\Speech\\Voices\\Tokens\\TTS_MS_EN-US_ZIRA_11.0\n",
      "          name=Microsoft Zira Desktop - English (United States)\n",
      "          languages=[]\n",
      "          gender=None\n",
      "          age=None>\n"
     ]
    }
   ],
   "source": [
    "import pyttsx3\n",
    "\n",
    "engine = pyttsx3.init()\n",
    "\n",
    "for voice in engine.getProperty('voices'):\n",
    "    print(voice)"
   ]
  }
 ],
 "metadata": {
  "kernelspec": {
   "display_name": ".venv",
   "language": "python",
   "name": "python3"
  },
  "language_info": {
   "codemirror_mode": {
    "name": "ipython",
    "version": 3
   },
   "file_extension": ".py",
   "mimetype": "text/x-python",
   "name": "python",
   "nbconvert_exporter": "python",
   "pygments_lexer": "ipython3",
   "version": "3.10.4"
  }
 },
 "nbformat": 4,
 "nbformat_minor": 2
}
