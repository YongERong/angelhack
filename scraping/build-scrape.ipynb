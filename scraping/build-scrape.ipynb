{
 "cells": [
  {
   "cell_type": "code",
   "execution_count": 1,
   "metadata": {},
   "outputs": [],
   "source": [
    "from googleapiclient.discovery import build\n",
    "import pprint\n",
    "import os\n",
    "from dotenv import load_dotenv\n",
    "import requests\n",
    "import json"
   ]
  },
  {
   "cell_type": "code",
   "execution_count": 9,
   "metadata": {},
   "outputs": [],
   "source": [
    "load_dotenv()\n",
    "GOOGLE_SEARCH_API_KEY = os.getenv(\"GOOGLE_SEARCH_API_KEY\")\n",
    "GOOGLE_SEARCH_ENGINE_ID = os.getenv(\"GOOGLE_SEARCH_ENGINE_ID\")\n",
    "JIGSAW_STACK_API_KEY = os.getenv(\"JIGSAW_STACK_API_KEY\")"
   ]
  },
  {
   "cell_type": "code",
   "execution_count": 3,
   "metadata": {},
   "outputs": [],
   "source": [
    "def google_search(search_term, api_key, cse_id, **kwargs):\n",
    "    service = build(\"customsearch\", \"v1\", developerKey=api_key)\n",
    "    res = service.cse().list(q=search_term, cx=cse_id, **kwargs).execute()\n",
    "\n",
    "\n",
    "    return res['items']"
   ]
  },
  {
   "cell_type": "code",
   "execution_count": 65,
   "metadata": {},
   "outputs": [],
   "source": [
    "results = google_search(\n",
    "    'nvidia stocks', GOOGLE_SEARCH_API_KEY, GOOGLE_SEARCH_ENGINE_ID, num=10)"
   ]
  },
  {
   "cell_type": "code",
   "execution_count": 66,
   "metadata": {},
   "outputs": [
    {
     "data": {
      "text/plain": [
       "'https://investor.nvidia.com/stock-info/stock-quote-and-chart/default.aspx'"
      ]
     },
     "execution_count": 66,
     "metadata": {},
     "output_type": "execute_result"
    }
   ],
   "source": [
    "results[0][\"link\"]"
   ]
  },
  {
   "cell_type": "code",
   "execution_count": 67,
   "metadata": {},
   "outputs": [
    {
     "ename": "TypeError",
     "evalue": "post() missing 1 required positional argument: 'url'",
     "output_type": "error",
     "traceback": [
      "\u001b[0;31m---------------------------------------------------------------------------\u001b[0m",
      "\u001b[0;31mTypeError\u001b[0m                                 Traceback (most recent call last)",
      "Cell \u001b[0;32mIn[67], line 1\u001b[0m\n\u001b[0;32m----> 1\u001b[0m help(\u001b[43mrequests\u001b[49m\u001b[38;5;241;43m.\u001b[39;49m\u001b[43mpost\u001b[49m\u001b[43m(\u001b[49m\u001b[43m)\u001b[49m)\n",
      "\u001b[0;31mTypeError\u001b[0m: post() missing 1 required positional argument: 'url'"
     ]
    }
   ],
   "source": [
    "help(requests.post())"
   ]
  },
  {
   "cell_type": "code",
   "execution_count": 68,
   "metadata": {},
   "outputs": [],
   "source": [
    "links = [result[\"link\"] for result in results]"
   ]
  },
  {
   "cell_type": "code",
   "execution_count": 69,
   "metadata": {},
   "outputs": [
    {
     "data": {
      "text/plain": [
       "['https://investor.nvidia.com/stock-info/stock-quote-and-chart/default.aspx',\n",
       " 'https://finance.yahoo.com/quote/NVDA/',\n",
       " 'https://www.marketwatch.com/investing/stock/nvda',\n",
       " 'https://www.tradingview.com/symbols/NASDAQ-NVDA/',\n",
       " 'https://www.investors.com/research/nvda-stock-is-nvidia-a-buy/',\n",
       " 'https://www.morningstar.com/stocks/xnas/nvda/quote',\n",
       " 'https://www.fool.com/investing/2024/05/24/who-owns-most-nvidia-stock-besides-jensen-huang/',\n",
       " 'https://www.cnbc.com/quotes/NVDA',\n",
       " 'https://www.nasdaq.com/market-activity/stocks/nvda',\n",
       " 'https://www.cnbc.com/2024/05/23/nvidia-stock-pops-10percent-to-record-high.html']"
      ]
     },
     "execution_count": 69,
     "metadata": {},
     "output_type": "execute_result"
    }
   ],
   "source": [
    "links"
   ]
  },
  {
   "cell_type": "code",
   "execution_count": 34,
   "metadata": {},
   "outputs": [],
   "source": [
    "def scrape_page(links, search_term):\n",
    "    for link in links[:1]:\n",
    "        headers = {\n",
    "            \"Content-Type\": \"application/json\",\n",
    "            \"x-api-key\": JIGSAW_STACK_API_KEY,\n",
    "        }\n",
    "        # data = {\"body\":{\n",
    "        #     \"url\": link,\n",
    "        # }}\n",
    "        res = requests.post(\n",
    "            \"https://api.jigsawstack.com/v1/ai/scrape\",\n",
    "            headers=headers,\n",
    "            json={\"url\": link, \"element_prompts\": [search_term]},\n",
    "        )\n",
    "    return res"
   ]
  },
  {
   "cell_type": "code",
   "execution_count": 35,
   "metadata": {},
   "outputs": [],
   "source": [
    "res = scrape_page(links[1:2], 'what are tbills?')"
   ]
  },
  {
   "cell_type": "code",
   "execution_count": 36,
   "metadata": {},
   "outputs": [
    {
     "data": {
      "text/plain": [
       "{'success': True,\n",
       " 'selectors': {'what are tbills?': ['#mntl-sc-block_1-0 .mntl-sc-block-heading__text',\n",
       "   '#mntl-sc-block_2-0',\n",
       "   '#mntl-sc-block_4-0',\n",
       "   '#mntl-sc-block_6-0 .mntl-sc-block-callout-body',\n",
       "   '#mntl-sc-block_8-0 .figure-media img']},\n",
       " 'data': [{'selector': '#mntl-sc-block_1-0 .mntl-sc-block-heading__text',\n",
       "   'results': [{'html': 'What Is a Treasury Bill (T-Bill)?',\n",
       "     'text': 'What Is a Treasury Bill (T-Bill)?',\n",
       "     'attributes': [{'name': 'class',\n",
       "       'value': 'mntl-sc-block-heading__text'}]}]},\n",
       "  {'selector': '#mntl-sc-block_2-0',\n",
       "   'results': [{'html': 'A Treasury bill (T-Bill) is a short-term U.S. government debt obligation backed by the Treasury Department. Terms range from four to 52 weeks. T-bills are issued at a <a href=\"https://www.investopedia.com/terms/a/at-a-discount.asp\">discount</a> from the <a href=\"https://www.investopedia.com/terms/p/parvalue.asp\">par value</a>, also known as the <a href=\"https://www.investopedia.com/terms/f/facevalue.asp\">face value</a>.',\n",
       "     'text': 'A Treasury bill (T-Bill) is a short-term U.S. government debt obligation backed by the Treasury Department. Terms range from four to 52 weeks. T-bills are issued at a discount from the par value, also known as the face value.',\n",
       "     'attributes': [{'name': 'id', 'value': 'mntl-sc-block_2-0'},\n",
       "      {'name': 'class',\n",
       "       'value': 'comp mntl-sc-block finance-sc-block-html mntl-sc-block-html'}]}]},\n",
       "  {'selector': '#mntl-sc-block_4-0',\n",
       "   'results': [{'html': 'Treasury bills are usually sold in denominations of $1,000. However, some can reach a maximum denomination of $5 million in non-competitive bids. The Treasury Department sells T-bills during auctions using a competitive and non-competitive bidding process.',\n",
       "     'text': 'Treasury bills are usually sold in denominations of $1,000. However, some can reach a maximum denomination of $5 million in non-competitive bids. The Treasury Department sells T-bills during auctions using a competitive and non-competitive bidding process.',\n",
       "     'attributes': [{'name': 'id', 'value': 'mntl-sc-block_4-0'},\n",
       "      {'name': 'class',\n",
       "       'value': 'comp mntl-sc-block finance-sc-block-html mntl-sc-block-html'}]}]},\n",
       "  {'selector': '#mntl-sc-block_6-0 .mntl-sc-block-callout-body',\n",
       "   'results': [{'html': '<ul><li>A Treasury Bill (T-Bill) is a short-term debt obligation backed by the U.S. Treasury Department with a one-year maturity or less.</li><li>Treasury bills are usually sold in denominations of $1,000, while some can reach a maximum denomination of $5 million.</li><li>T-bill rates depend on interest rate expectations.</li></ul>',\n",
       "     'text': 'A Treasury Bill (T-Bill) is a short-term debt obligation backed by the U.S. Treasury Department with a one-year maturity or less.Treasury bills are usually sold in denominations of $1,000, while some can reach a maximum denomination of $5 million.T-bill rates depend on interest rate expectations.',\n",
       "     'attributes': [{'name': 'id', 'value': 'mntl-sc-block-callout-body_1-0'},\n",
       "      {'name': 'class',\n",
       "       'value': 'comp mntl-sc-block-callout-body mntl-text-block'}]}]},\n",
       "  {'selector': '#mntl-sc-block_8-0 .figure-media img',\n",
       "   'results': [{'html': '',\n",
       "     'text': '',\n",
       "     'attributes': [{'name': 'data-src',\n",
       "       'value': 'https://www.investopedia.com/thmb/8YcMbVtX7x2P8vdx1l7UeVnNXEI=/1500x0/filters:no_upscale():max_bytes(150000):strip_icc():format(webp)/Treasurybill-b7a8fc4ccac04973867613f77851b732.jpg'},\n",
       "      {'name': 'width', 'value': '1500'},\n",
       "      {'name': 'height', 'value': '1000'},\n",
       "      {'name': 'data-srcset',\n",
       "       'value': 'https://www.investopedia.com/thmb/7dYCBfVASOyN_KJ2KFnOfvuGW6Q=/750x0/filters:no_upscale():max_bytes(150000):strip_icc():format(webp)/Treasurybill-b7a8fc4ccac04973867613f77851b732.jpg 750w'},\n",
       "      {'name': 'data-sizes', 'value': '750px'},\n",
       "      {'name': 'alt', 'value': 'Treasury Bills'},\n",
       "      {'name': 'class', 'value': ' universal-image__image lazyloadwait'},\n",
       "      {'name': 'data-expand', 'value': '300'},\n",
       "      {'name': 'data-hi-res-src',\n",
       "       'value': 'https://www.investopedia.com/thmb/8YcMbVtX7x2P8vdx1l7UeVnNXEI=/1500x0/filters:no_upscale():max_bytes(150000):strip_icc():format(webp)/Treasurybill-b7a8fc4ccac04973867613f77851b732.jpg'},\n",
       "      {'name': 'id', 'value': 'mntl-sc-block-image_1-0'},\n",
       "      {'name': 'data-tracking-container', 'value': 'true'},\n",
       "      {'name': 'data-img-lightbox', 'value': 'true'},\n",
       "      {'name': 'data-click-tracked', 'value': 'true'}]}]}]}"
      ]
     },
     "execution_count": 36,
     "metadata": {},
     "output_type": "execute_result"
    }
   ],
   "source": [
    "res.json()"
   ]
  },
  {
   "cell_type": "code",
   "execution_count": 50,
   "metadata": {},
   "outputs": [],
   "source": [
    "data = res.json()"
   ]
  },
  {
   "cell_type": "code",
   "execution_count": 60,
   "metadata": {},
   "outputs": [],
   "source": [
    "d = data[\"data\"]"
   ]
  },
  {
   "cell_type": "code",
   "execution_count": 64,
   "metadata": {},
   "outputs": [
    {
     "name": "stdout",
     "output_type": "stream",
     "text": [
      "[{'html': 'What Is a Treasury Bill (T-Bill)?', 'text': 'What Is a Treasury Bill (T-Bill)?', 'attributes': [{'name': 'class', 'value': 'mntl-sc-block-heading__text'}]}]\n",
      "[{'html': 'A Treasury bill (T-Bill) is a short-term U.S. government debt obligation backed by the Treasury Department. Terms range from four to 52 weeks. T-bills are issued at a <a href=\"https://www.investopedia.com/terms/a/at-a-discount.asp\">discount</a> from the <a href=\"https://www.investopedia.com/terms/p/parvalue.asp\">par value</a>, also known as the <a href=\"https://www.investopedia.com/terms/f/facevalue.asp\">face value</a>.', 'text': 'A Treasury bill (T-Bill) is a short-term U.S. government debt obligation backed by the Treasury Department. Terms range from four to 52 weeks. T-bills are issued at a discount from the par value, also known as the face value.', 'attributes': [{'name': 'id', 'value': 'mntl-sc-block_2-0'}, {'name': 'class', 'value': 'comp mntl-sc-block finance-sc-block-html mntl-sc-block-html'}]}]\n",
      "[{'html': 'Treasury bills are usually sold in denominations of $1,000. However, some can reach a maximum denomination of $5 million in non-competitive bids. The Treasury Department sells T-bills during auctions using a competitive and non-competitive bidding process.', 'text': 'Treasury bills are usually sold in denominations of $1,000. However, some can reach a maximum denomination of $5 million in non-competitive bids. The Treasury Department sells T-bills during auctions using a competitive and non-competitive bidding process.', 'attributes': [{'name': 'id', 'value': 'mntl-sc-block_4-0'}, {'name': 'class', 'value': 'comp mntl-sc-block finance-sc-block-html mntl-sc-block-html'}]}]\n",
      "[{'html': '<ul><li>A Treasury Bill (T-Bill) is a short-term debt obligation backed by the U.S. Treasury Department with a one-year maturity or less.</li><li>Treasury bills are usually sold in denominations of $1,000, while some can reach a maximum denomination of $5 million.</li><li>T-bill rates depend on interest rate expectations.</li></ul>', 'text': 'A Treasury Bill (T-Bill) is a short-term debt obligation backed by the U.S. Treasury Department with a one-year maturity or less.Treasury bills are usually sold in denominations of $1,000, while some can reach a maximum denomination of $5 million.T-bill rates depend on interest rate expectations.', 'attributes': [{'name': 'id', 'value': 'mntl-sc-block-callout-body_1-0'}, {'name': 'class', 'value': 'comp mntl-sc-block-callout-body mntl-text-block'}]}]\n",
      "[{'html': '', 'text': '', 'attributes': [{'name': 'data-src', 'value': 'https://www.investopedia.com/thmb/8YcMbVtX7x2P8vdx1l7UeVnNXEI=/1500x0/filters:no_upscale():max_bytes(150000):strip_icc():format(webp)/Treasurybill-b7a8fc4ccac04973867613f77851b732.jpg'}, {'name': 'width', 'value': '1500'}, {'name': 'height', 'value': '1000'}, {'name': 'data-srcset', 'value': 'https://www.investopedia.com/thmb/7dYCBfVASOyN_KJ2KFnOfvuGW6Q=/750x0/filters:no_upscale():max_bytes(150000):strip_icc():format(webp)/Treasurybill-b7a8fc4ccac04973867613f77851b732.jpg 750w'}, {'name': 'data-sizes', 'value': '750px'}, {'name': 'alt', 'value': 'Treasury Bills'}, {'name': 'class', 'value': ' universal-image__image lazyloadwait'}, {'name': 'data-expand', 'value': '300'}, {'name': 'data-hi-res-src', 'value': 'https://www.investopedia.com/thmb/8YcMbVtX7x2P8vdx1l7UeVnNXEI=/1500x0/filters:no_upscale():max_bytes(150000):strip_icc():format(webp)/Treasurybill-b7a8fc4ccac04973867613f77851b732.jpg'}, {'name': 'id', 'value': 'mntl-sc-block-image_1-0'}, {'name': 'data-tracking-container', 'value': 'true'}, {'name': 'data-img-lightbox', 'value': 'true'}, {'name': 'data-click-tracked', 'value': 'true'}]}]\n"
     ]
    }
   ],
   "source": [
    "for i in d:\n",
    "    print(i['results'][0])"
   ]
  },
  {
   "cell_type": "code",
   "execution_count": 73,
   "metadata": {},
   "outputs": [],
   "source": [
    "from newsapi import NewsApiClient\n",
    "NEWS_API_KEY=os.getenv(\"NEWS_API_KEY\")\n",
    "newsapi = NewsApiClient(api_key=NEWS_API_KEY)\n"
   ]
  },
  {
   "cell_type": "code",
   "execution_count": null,
   "metadata": {},
   "outputs": [],
   "source": [
    "sources = newsapi.get_sources()"
   ]
  }
 ],
 "metadata": {
  "kernelspec": {
   "display_name": ".venv",
   "language": "python",
   "name": "python3"
  },
  "language_info": {
   "codemirror_mode": {
    "name": "ipython",
    "version": 3
   },
   "file_extension": ".py",
   "mimetype": "text/x-python",
   "name": "python",
   "nbconvert_exporter": "python",
   "pygments_lexer": "ipython3",
   "version": "3.12.3"
  }
 },
 "nbformat": 4,
 "nbformat_minor": 2
}
